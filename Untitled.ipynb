{
 "cells": [
  {
   "cell_type": "code",
   "execution_count": 21,
   "id": "2ef2a1a4-94e3-455c-b7bd-9ff2b0ec3f6a",
   "metadata": {},
   "outputs": [
    {
     "name": "stdin",
     "output_type": "stream",
     "text": [
      "Enter your choice: \n",
      "1) Stone \n",
      "2) Paper \n",
      "3) Scissor \n",
      " paper\n"
     ]
    },
    {
     "name": "stdout",
     "output_type": "stream",
     "text": [
      "\n",
      "Your choice is: Paper\n",
      "Computer choice is: Stone\n",
      "\n",
      "Hurray! You won the game\n"
     ]
    }
   ],
   "source": [
    "import random\n",
    "\n",
    "def game(player_choice, computer_choice):\n",
    "    if player_choice == computer_choice:\n",
    "        return -1\n",
    "    elif (player_choice == \"Scissor\" and computer_choice == \"Stone\") or (player_choice == \"Paper\" and computer_choice == \"Scissor\") or (player_choice == \"Stone\" and computer_choice == \"Paper\"):\n",
    "        return 0\n",
    "    elif (player_choice == \"Scissor\" and computer_choice == \"Paper\") or (player_choice == \"Paper\" and computer_choice == \"Stone\") or (player_choice == \"Stone\" and computer_choice == \"Scissor\"):\n",
    "        return 1\n",
    "    else:\n",
    "        raise ValueError(\"Invalid choice\")\n",
    "\n",
    "def main():\n",
    "    choices = [\"Stone\", \"Paper\", \"Scissor\"]\n",
    "    computer_choice = random.choice(choices)\n",
    "    \n",
    "    player_choice = input(\"Enter your choice: \\n1) Stone \\n2) Paper \\n3) Scissor \\n\").strip().capitalize()\n",
    "    \n",
    "    print(f\"\\nYour choice is: {player_choice}\")\n",
    "    print(f\"Computer choice is: {computer_choice}\")\n",
    "    \n",
    "    try:\n",
    "        result = game(player_choice, computer_choice)\n",
    "        if result == -1:\n",
    "            print(\"\\nGame is a draw\")\n",
    "        elif result == 1:\n",
    "            print(\"\\nHurray! You won the game\")\n",
    "        else:\n",
    "            print(\"\\nComputer won the game\\nBad luck, Try next time\")\n",
    "    except ValueError as e:\n",
    "        print(e)\n",
    "\n",
    "\n",
    "main()\n",
    "\n"
   ]
  },
  {
   "cell_type": "code",
   "execution_count": null,
   "id": "90a2e16e-506a-4fe8-ac35-e117a9af6f84",
   "metadata": {},
   "outputs": [],
   "source": []
  }
 ],
 "metadata": {
  "kernelspec": {
   "display_name": "Python 3 (ipykernel)",
   "language": "python",
   "name": "python3"
  },
  "language_info": {
   "codemirror_mode": {
    "name": "ipython",
    "version": 3
   },
   "file_extension": ".py",
   "mimetype": "text/x-python",
   "name": "python",
   "nbconvert_exporter": "python",
   "pygments_lexer": "ipython3",
   "version": "3.11.7"
  }
 },
 "nbformat": 4,
 "nbformat_minor": 5
}
